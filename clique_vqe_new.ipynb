{
 "cells": [
  {
   "cell_type": "code",
   "execution_count": 1,
   "metadata": {},
   "outputs": [
    {
     "data": {
      "text/plain": [
       "<AccountProvider for IBMQ(hub='ibm-q', group='open', project='main')>"
      ]
     },
     "execution_count": 1,
     "metadata": {},
     "output_type": "execute_result"
    }
   ],
   "source": [
    "from qiskit import *\n",
    "#IBMQ.save_account('TOKEN_AQUI')\n",
    "IBMQ.load_account()"
   ]
  },
  {
   "cell_type": "code",
   "execution_count": 6,
   "metadata": {},
   "outputs": [
    {
     "name": "stdout",
     "output_type": "stream",
     "text": [
      "BackendStatus(backend_name='ibmq_qasm_simulator', backend_version='0.1.547', operational=True, pending_jobs=1, status_msg='active')\n",
      "BackendStatus(backend_name='ibmqx2', backend_version='2.0.5', operational=True, pending_jobs=5, status_msg='active')\n",
      "BackendStatus(backend_name='ibmq_16_melbourne', backend_version='2.1.0', operational=True, pending_jobs=2, status_msg='active')\n",
      "BackendStatus(backend_name='ibmq_vigo', backend_version='1.0.2', operational=True, pending_jobs=6, status_msg='active')\n",
      "BackendStatus(backend_name='ibmq_ourense', backend_version='1.0.1', operational=True, pending_jobs=24, status_msg='active')\n",
      "BackendStatus(backend_name='ibmq_london', backend_version='1.1.0', operational=True, pending_jobs=11, status_msg='active')\n",
      "BackendStatus(backend_name='ibmq_burlington', backend_version='1.1.4', operational=True, pending_jobs=6, status_msg='active')\n",
      "BackendStatus(backend_name='ibmq_essex', backend_version='1.0.1', operational=True, pending_jobs=6, status_msg='active')\n",
      "BackendStatus(backend_name='ibmq_armonk', backend_version='1.1.0', operational=True, pending_jobs=0, status_msg='active')\n"
     ]
    }
   ],
   "source": [
    "#Check IBM servers available\n",
    "provider = IBMQ.get_provider(hub='ibm-q')\n",
    "provider.backends()\n",
    "#Check IBM Servers queue and status\n",
    "for backend in provider.backends():\n",
    "    print( backend.status() )"
   ]
  },
  {
   "cell_type": "code",
   "execution_count": 5,
   "metadata": {},
   "outputs": [
    {
     "ename": "AttributeError",
     "evalue": "'IBMQFactory' object has no attribute 'backends'",
     "output_type": "error",
     "traceback": [
      "\u001b[1;31m---------------------------------------------------------------------------\u001b[0m",
      "\u001b[1;31mAttributeError\u001b[0m                            Traceback (most recent call last)",
      "\u001b[1;32m<ipython-input-5-fb4aedb13480>\u001b[0m in \u001b[0;36m<module>\u001b[1;34m\u001b[0m\n\u001b[0;32m      1\u001b[0m \u001b[1;32mfrom\u001b[0m \u001b[0mqiskit\u001b[0m \u001b[1;32mimport\u001b[0m \u001b[0mIBMQ\u001b[0m\u001b[1;33m\u001b[0m\u001b[1;33m\u001b[0m\u001b[0m\n\u001b[0;32m      2\u001b[0m \u001b[1;32mfrom\u001b[0m \u001b[0mqiskit\u001b[0m\u001b[1;33m.\u001b[0m\u001b[0mproviders\u001b[0m\u001b[1;33m.\u001b[0m\u001b[0mibmq\u001b[0m \u001b[1;32mimport\u001b[0m \u001b[0mleast_busy\u001b[0m\u001b[1;33m\u001b[0m\u001b[1;33m\u001b[0m\u001b[0m\n\u001b[1;32m----> 3\u001b[1;33m large_enough_devices = IBMQ.backends(filters=lambda x: x.configuration().n_qubits  >= 4 and\n\u001b[0m\u001b[0;32m      4\u001b[0m                                                       \u001b[1;32mnot\u001b[0m \u001b[0mx\u001b[0m\u001b[1;33m.\u001b[0m\u001b[0mconfiguration\u001b[0m\u001b[1;33m(\u001b[0m\u001b[1;33m)\u001b[0m\u001b[1;33m.\u001b[0m\u001b[0msimulator\u001b[0m \u001b[1;32mand\u001b[0m\u001b[1;33m\u001b[0m\u001b[1;33m\u001b[0m\u001b[0m\n\u001b[0;32m      5\u001b[0m                                                       x.status().operational==True)\n",
      "\u001b[1;31mAttributeError\u001b[0m: 'IBMQFactory' object has no attribute 'backends'"
     ]
    }
   ],
   "source": [
    "from qiskit import IBMQ\n",
    "from qiskit.providers.ibmq import least_busy\n",
    "large_enough_devices = IBMQ.backends(filters=lambda x: x.configuration().n_qubits  >= 4 and\n",
    "                                                      not x.configuration().simulator and\n",
    "                                                      x.status().operational==True)\n",
    "if large_enough_devices != []:\n",
    "    backend = least_busy(large_enough_devices)\n",
    "    print(\"The best backend is \" + backend.name())\n",
    "else:\n",
    "    print(\"No device available for input parameters\")"
   ]
  },
  {
   "cell_type": "code",
   "execution_count": 10,
   "metadata": {},
   "outputs": [],
   "source": [
    "import numpy as np\n",
    "import networkx as nx\n",
    "import matplotlib.pyplot as plt\n",
    "import matplotlib.axes as axes\n",
    "%matplotlib inline\n",
    "\n",
    "from qiskit import BasicAer\n",
    "\n",
    "from qiskit.aqua import run_algorithm\n",
    "from qiskit.aqua.input import EnergyInput\n",
    "from qiskit.aqua.translators.ising import clique_new\n",
    "from qiskit.aqua.algorithms import ExactEigensolver\n",
    "\n",
    "from qiskit.tools.visualization import plot_histogram"
   ]
  },
  {
   "cell_type": "code",
   "execution_count": 14,
   "metadata": {},
   "outputs": [
    {
     "name": "stdout",
     "output_type": "stream",
     "text": [
      "[[0. 4. 5. 0. 0.]\n",
      " [4. 0. 9. 0. 7.]\n",
      " [5. 9. 0. 0. 6.]\n",
      " [0. 0. 0. 0. 0.]\n",
      " [0. 7. 6. 0. 0.]]\n",
      "{(0, 1): 4.0, (0, 2): 5.0, (1, 2): 9.0, (1, 4): 7.0, (2, 4): 6.0}\n"
     ]
    },
    {
     "data": {
      "image/png": "[encoded data removed]",
      "text/plain": [
       "<Figure size 432x288 with 1 Axes>"
      ]
     },
     "metadata": {},
     "output_type": "display_data"
    }
   ],
   "source": [
    "#Start Graph creation and Clique definition\n",
    "K = 3  # K clique size\n",
    "np.random.seed(100)\n",
    "num_nodes = 5 # Graph vertice numbers\n",
    "adjacency_matrix = clique_new.random_graph(num_nodes, edge_prob=0.55, weight_range=10)\n",
    "#Print adjacency matrix\n",
    "print(adjacency_matrix)\n",
    "\n",
    "G = nx.from_numpy_matrix(np.array(adjacency_matrix)) \n",
    "labels = nx.get_edge_attributes(G,'weight')\n",
    "#Print edges between vertices\n",
    "print(labels)\n",
    "\n",
    "pos = nx.spring_layout(G,k=10,scale=10)\n",
    "\n",
    "#Print result graph\n",
    "#nx.draw(G, pos, with_labels=True, width=2, style=\"solid\")\n",
    "#nx.draw_circular(G, with_labels=True)\n",
    "nx.draw_networkx(G, with_labels=True, node_size=600, alpha = .8, pos=pos)\n",
    "#nx.draw_planar(G, with_labels=True)\n",
    "#nx.draw_random(G, with_labels=True)\n",
    "#nx.draw_spectral(G, with_labels=True)\n",
    "#nx.draw_spring(G, with_labels=True)\n",
    "#nx.draw_shell(G, with_labels=True)\n"
   ]
  },
  {
   "cell_type": "code",
   "execution_count": 15,
   "metadata": {},
   "outputs": [
    {
     "ename": "ValueError",
     "evalue": "too many values to unpack (expected 2)",
     "output_type": "error",
     "traceback": [
      "\u001b[1;31m---------------------------------------------------------------------------\u001b[0m",
      "\u001b[1;31mValueError\u001b[0m                                Traceback (most recent call last)",
      "\u001b[1;32m<ipython-input-15-c135d5deb6bc>\u001b[0m in \u001b[0;36m<module>\u001b[1;34m\u001b[0m\n\u001b[0;32m      1\u001b[0m \u001b[1;31m#Code Cell Test - Declarative VQE without Looping\u001b[0m\u001b[1;33m\u001b[0m\u001b[1;33m\u001b[0m\u001b[1;33m\u001b[0m\u001b[0m\n\u001b[0;32m      2\u001b[0m \u001b[0mpenality\u001b[0m\u001b[1;33m=\u001b[0m\u001b[1;36m2000\u001b[0m\u001b[1;33m\u001b[0m\u001b[1;33m\u001b[0m\u001b[0m\n\u001b[1;32m----> 3\u001b[1;33m \u001b[0mqubit_op\u001b[0m\u001b[1;33m,\u001b[0m \u001b[0moffset\u001b[0m \u001b[1;33m=\u001b[0m \u001b[0mclique_new\u001b[0m\u001b[1;33m.\u001b[0m\u001b[0mget_clique_qubitops_2\u001b[0m\u001b[1;33m(\u001b[0m\u001b[0madjacency_matrix\u001b[0m\u001b[1;33m,\u001b[0m \u001b[0mK\u001b[0m\u001b[1;33m,\u001b[0m \u001b[0mpenality\u001b[0m\u001b[1;33m)\u001b[0m\u001b[1;33m\u001b[0m\u001b[1;33m\u001b[0m\u001b[0m\n\u001b[0m\u001b[0;32m      4\u001b[0m \u001b[1;33m\u001b[0m\u001b[0m\n\u001b[0;32m      5\u001b[0m \u001b[0malgo_input\u001b[0m \u001b[1;33m=\u001b[0m \u001b[0mEnergyInput\u001b[0m\u001b[1;33m(\u001b[0m\u001b[0mqubit_op\u001b[0m\u001b[1;33m)\u001b[0m\u001b[1;33m\u001b[0m\u001b[1;33m\u001b[0m\u001b[0m\n",
      "\u001b[1;31mValueError\u001b[0m: too many values to unpack (expected 2)"
     ]
    }
   ],
   "source": [
    "#Code Cell Test - Declarative VQE without Looping\n",
    "penality=2000\n",
    "qubit_op, offset = clique_new.get_clique_qubitops_2(adjacency_matrix, K, penality)\n",
    "\n",
    "algo_input = EnergyInput(qubit_op)\n",
    "\n",
    "params = {\n",
    "    'problem': {'name': 'ising'},\n",
    "    'algorithm': {'name': 'VQE'},\n",
    "    'optimizer': {'name': 'COBYLA','maxiter': 200},\n",
    "    'variational_form': {'name': 'RY', 'depth': 5, 'entanglement': 'linear'}\n",
    "}\n",
    "backend = BasicAer.get_backend('statevector_simulator')\n",
    "print(\"Adjacency Matrix:\", adjacency_matrix)\n",
    "print(\"Clique(K):\", K)\n",
    "\n",
    "totaltime=0\n",
    "\n",
    "result = run_algorithm(params, algo_input, backend=backend)\n",
    "x = clique_new.sample_most_likely(len(adjacency_matrix), result['eigvecs'][0])\n",
    "ising_vqed_sol = clique_new.get_graph_solution(x)\n",
    "print(\"ISING:\", ising_vqed_sol)\n",
    "getclique = clique_new.satisfy_or_not(ising_vqed_sol, adjacency_matrix, K)\n",
    "totaltime=totaltime+result['eval_time']\n",
    "\n",
    "print('energy:', result['energy'])\n",
    "print('time:', totaltime)\n",
    "print('clique objective:', result['energy'] + offset)\n",
    "#print('solution:', clique.get_graph_solution(x))\n",
    "\n",
    "#if getclique:\n",
    "print(\"Solution is \", ising_vqed_sol, \" for Graph(G) with \", num_nodes, \" vertices and a Clique(K): \", K)\n",
    "#Start lists\n",
    "ising_vqed_nol1 = []\n",
    "ising_vqed_nol2 = []\n",
    "#Create two lists to clique vertice colors\n",
    "for i in range(num_nodes):\n",
    "    if ising_vqed_sol[i] != 0:\n",
    "        ising_vqed_nol1.append(i)\n",
    "    else:\n",
    "        ising_vqed_nol2.append(i)\n",
    "\n",
    "pos=nx.spring_layout(G,k=10,scale=10)\n",
    "#Red color for clique vertices\n",
    "nx.draw_networkx_nodes(G,pos,\n",
    "                       nodelist=ising_vqed_nol1,\n",
    "                       node_color='r',\n",
    "                       node_size=500,\n",
    "                   alpha=0.8)\n",
    "#Blue color for not clique vertices\n",
    "nx.draw_networkx_nodes(G,pos,\n",
    "                       nodelist=ising_vqed_nol2,\n",
    "                       node_color='b',\n",
    "                       node_size=500,\n",
    "                   alpha=0.8)\n",
    "\n",
    "nx.draw_networkx_edges(G,pos,width=1.0,alpha=0.5)\n",
    "#Imprimir o grafo com as cliques\n",
    "nx.draw_networkx_labels(G,pos,with_labels=True)\n",
    "#else:\n",
    "#    print(\"No solution found for K=\", K)"
   ]
  },
  {
   "cell_type": "code",
   "execution_count": 23,
   "metadata": {},
   "outputs": [
    {
     "name": "stdout",
     "output_type": "stream",
     "text": [
      "Penalidade:  1000\n",
      "Adjacency Matrix: [[0. 4. 5. 0. 0.]\n",
      " [4. 0. 9. 0. 7.]\n",
      " [5. 9. 0. 0. 6.]\n",
      " [0. 0. 0. 0. 0.]\n",
      " [0. 7. 6. 0. 0.]]\n",
      "Clique(K): 3\n",
      "ISING: [0. 1. 1. 0. 1.]\n",
      "energy: -1501.42\n",
      "time: 39.84286642074585\n",
      "clique objective: 0.32999999999992724\n",
      "optimal_cost: -1501.42\n",
      "Resultado: {'num_optimizer_evals': 250, 'min_val': -1501.42, 'opt_params': array([ 1.93909501, -3.13276149,  0.75319841,  0.46142828, -3.33266322,\n",
      "        1.40065792,  0.17265885, -2.04581994,  1.06058642, -3.0393164 ,\n",
      "       -0.88403334, -2.67528003,  0.1864117 ,  1.09052901,  1.29614857,\n",
      "        0.12283331,  1.65987506, -1.37767277, -1.62714834, -2.56111463,\n",
      "        1.41992227, -0.19936818,  0.16224181,  0.16119221,  2.51966437,\n",
      "        1.34051626,  0.3374834 , -1.29729154,  1.44154753, -1.95341233]), 'eval_time': 39.84286642074585, 'eval_count': 250, 'energy': -1501.42, 'eigvals': array([-1501.42]), 'min_vector': {'01000': 1, '01010': 35, '01001': 62, '10001': 1, '10010': 1}, 'eigvecs': array([{'01000': 1, '01010': 35, '01001': 62, '10001': 1, '10010': 1}],\n",
      "      dtype=object)}\n",
      "Solution is  [0. 1. 1. 0. 1.]  for Graph(G) with  5  vertices and a Clique(K):  3\n",
      "{'01000': 1, '01010': 35, '01001': 62, '10001': 1, '10010': 1}\n"
     ]
    },
    {
     "data": {
      "image/png": "[encoded data removed]",
      "text/plain": [
       "<Figure size 504x360 with 1 Axes>"
      ]
     },
     "execution_count": 23,
     "metadata": {},
     "output_type": "execute_result"
    },
    {
     "data": {
      "image/png": "[encoded data removed]",
      "text/plain": [
       "<Figure size 432x288 with 1 Axes>"
      ]
     },
     "metadata": {},
     "output_type": "display_data"
    }
   ],
   "source": [
    "#Code Cell Test - Programmatic VQE without Looping\n",
    "from qiskit.aqua import aqua_globals\n",
    "from qiskit.aqua.algorithms import VQE\n",
    "from qiskit.aqua.components.optimizers import COBYLA\n",
    "from qiskit.aqua.components.variational_forms import RY\n",
    "from qiskit.aqua import QuantumInstance\n",
    "\n",
    "penality=1000\n",
    "qubit_op, offset, penality = clique_new.get_clique_qubitops_2(adjacency_matrix, K, penality)\n",
    "\n",
    "algo_input = EnergyInput(qubit_op)\n",
    "\n",
    "print('Penalidade: ', penality)\n",
    "#aqua_globals.random_seed = 10598\n",
    "#seed = 10598\n",
    "optimizer = COBYLA(maxiter=250)\n",
    "#optimizer = SPSA(max_trials=200)\n",
    "var_form = RY(qubit_op.num_qubits, depth=5, entanglement='linear')\n",
    "vqe_clique = VQE(qubit_op, var_form, optimizer)\n",
    "backend = Aer.get_backend('qasm_simulator')\n",
    "quantum_instance = QuantumInstance(backend=backend, shots=100) #, seed_simulator=seed)\n",
    "\n",
    "print(\"Adjacency Matrix:\", adjacency_matrix)\n",
    "print(\"Clique(K):\", K)\n",
    "\n",
    "totaltime=0\n",
    "result = vqe_clique.run(quantum_instance)\n",
    "x = clique_new.sample_most_likely(len(adjacency_matrix), result['eigvecs'][0])\n",
    "ising_vqep_sol = clique_new.get_graph_solution(x)\n",
    "print(\"ISING:\", ising_vqep_sol)\n",
    "getclique = clique_new.satisfy_or_not(ising_vqep_sol, adjacency_matrix, K)\n",
    "if np.count_nonzero(ising_vqep_sol) != K:\n",
    "    getclique = False\n",
    "totaltime=totaltime+result['eval_time']\n",
    "#print(\"Get_Result: \", clique.get_gset_result(x))\n",
    "\n",
    "print('energy:', result['energy'])\n",
    "print('time:', totaltime)\n",
    "print('clique objective:', result['energy'] + offset)\n",
    "print('optimal_cost:', vqe_clique.get_optimal_cost())\n",
    "print('Resultado:', result)\n",
    "\n",
    "#if clique_new.satisfy_or_not(ising_vqep_sol, adjacency_matrix, K):\n",
    "print(\"Solution is \", ising_vqep_sol, \" for Graph(G) with \", num_nodes, \" vertices and a Clique(K): \", K)\n",
    "\n",
    "#Start lists\n",
    "ising_vqep_nol1 = []\n",
    "ising_vqep_nol2 = []\n",
    "#Create two lists to clique vertice colors\n",
    "for i in range(num_nodes):\n",
    "    if ising_vqep_sol[i] != 0:\n",
    "        ising_vqep_nol1.append(i)\n",
    "    else:\n",
    "        ising_vqep_nol2.append(i)\n",
    "\n",
    "pos=nx.spring_layout(G,k=10,scale=10)\n",
    "#Red color for clique vertices\n",
    "nx.draw_networkx_nodes(G,pos,\n",
    "                       nodelist=ising_vqep_nol1,\n",
    "                       node_color='r',\n",
    "                       node_size=500,\n",
    "                   alpha=0.8)\n",
    "#Blue color for not clique vertices\n",
    "nx.draw_networkx_nodes(G,pos,\n",
    "                       nodelist=ising_vqep_nol2,\n",
    "                       node_color='b',\n",
    "                       node_size=500,\n",
    "                   alpha=0.8)\n",
    "\n",
    "nx.draw_networkx_edges(G,pos,width=1.0,alpha=0.5)\n",
    "#Imprimir o grafo com as cliques\n",
    "nx.draw_networkx_labels(G,pos,with_labels=True)\n",
    "#else:\n",
    "#    print(\"No solution found for K=\", K, \" para os valores: \", ising_vqep_sol)\n",
    "\n",
    "counts = result['min_vector']\n",
    "print (counts)\n",
    "from qiskit.tools.visualization import plot_histogram\n",
    "plot_histogram(counts)\n",
    "\n",
    "#expected_value = (counts['00'] + counts['01'] - counts['10'] - counts['11']) / num_shots\n",
    "#print('Expected value for sigma_z I is : %s' % expected_value)"
   ]
  },
  {
   "cell_type": "code",
   "execution_count": null,
   "metadata": {},
   "outputs": [],
   "source": []
  }
 ],
 "metadata": {
  "kernelspec": {
   "display_name": "Python 3",
   "language": "python",
   "name": "python3"
  },
  "language_info": {
   "codemirror_mode": {
    "name": "ipython",
    "version": 3
   },
   "file_extension": ".py",
   "mimetype": "text/x-python",
   "name": "python",
   "nbconvert_exporter": "python",
   "pygments_lexer": "ipython3",
   "version": "3.7.4"
  }
 },
 "nbformat": 4,
 "nbformat_minor": 2
}
