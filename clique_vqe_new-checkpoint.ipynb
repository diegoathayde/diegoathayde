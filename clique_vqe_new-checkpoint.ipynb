{
 "cells": [
  {
   "cell_type": "code",
   "execution_count": 14,
   "metadata": {},
   "outputs": [
    {
     "data": {
      "text/plain": [
       "<AccountProvider for IBMQ(hub='ibm-q', group='open', project='main')>"
      ]
     },
     "execution_count": 14,
     "metadata": {},
     "output_type": "execute_result"
    }
   ],
   "source": [
    "from qiskit import *\n",
    "#IBMQ.save_account('TOKEN_AQUI')\n",
    "IBMQ.load_account()"
   ]
  },
  {
   "cell_type": "code",
   "execution_count": 27,
   "metadata": {},
   "outputs": [
    {
     "name": "stderr",
     "output_type": "stream",
     "text": [
      "C:\\ProgramData\\Anaconda3\\lib\\site-packages\\qiskit\\providers\\ibmq\\ibmqfactory.py:548: DeprecationWarning: IBMQ.backends() is being deprecated. Please use IBMQ.get_provider() to retrieve a provider and AccountProvider.backends() to find its backends.\n",
      "  DeprecationWarning)\n"
     ]
    },
    {
     "name": "stdout",
     "output_type": "stream",
     "text": [
      "The best backend is ibmq_burlington\n"
     ]
    }
   ],
   "source": [
    "from qiskit import IBMQ\n",
    "from qiskit.providers.ibmq import least_busy\n",
    "large_enough_devices = IBMQ.backends(filters=lambda x: x.configuration().n_qubits  >= num_nodes and\n",
    "                                                      not x.configuration().simulator and\n",
    "                                                      x.status().operational==True)\n",
    "if large_enough_devices != []:\n",
    "    backend = least_busy(large_enough_devices)\n",
    "    print(\"The best backend is \" + backend.name())\n",
    "else:\n",
    "    print(\"No device available for input parameters\")"
   ]
  },
  {
   "cell_type": "code",
   "execution_count": 2,
   "metadata": {},
   "outputs": [],
   "source": [
    "import numpy as np\n",
    "import networkx as nx\n",
    "import matplotlib.pyplot as plt\n",
    "import matplotlib.axes as axes\n",
    "%matplotlib inline\n",
    "\n",
    "from qiskit import BasicAer\n",
    "\n",
    "from qiskit.aqua import run_algorithm\n",
    "from qiskit.aqua.input import EnergyInput\n",
    "from qiskit.aqua.translators.ising import clique_new\n",
    "from qiskit.aqua.algorithms import ExactEigensolver\n",
    "\n",
    "from qiskit.tools.visualization import plot_histogram"
   ]
  },
  {
   "cell_type": "code",
   "execution_count": 26,
   "metadata": {},
   "outputs": [
    {
     "name": "stdout",
     "output_type": "stream",
     "text": [
      "[[ 0.  0. -8.  5.  0.]\n",
      " [ 0.  0.  0.  9.  0.]\n",
      " [-8.  0.  0.  0.  0.]\n",
      " [ 5.  9.  0.  0. -3.]\n",
      " [ 0.  0.  0. -3.  0.]]\n",
      "{(0, 2): -8.0, (0, 3): 5.0, (1, 3): 9.0, (3, 4): -3.0}\n"
     ]
    },
    {
     "data": {
      "image/png": "[encoded data removed]",
      "text/plain": [
       "<Figure size 432x288 with 1 Axes>"
      ]
     },
     "metadata": {},
     "output_type": "display_data"
    }
   ],
   "source": [
    "#Start Graph creation and Clique definition\n",
    "K = 3  # K clique size\n",
    "np.random.seed(100)\n",
    "num_nodes = 5 # Graph vertice numbers\n",
    "adjacency_matrix = clique_new.random_graph(num_nodes, edge_prob=0.4, weight_range=10)\n",
    "#Print adjacency matrix\n",
    "print(adjacency_matrix)\n",
    "\n",
    "G = nx.from_numpy_matrix(np.array(adjacency_matrix)) \n",
    "labels = nx.get_edge_attributes(G,'weight')\n",
    "#Print edges between vertices\n",
    "print(labels)\n",
    "\n",
    "pos = nx.spring_layout(G,k=10,scale=10)\n",
    "\n",
    "#Print result graph\n",
    "#nx.draw(G, pos, with_labels=True, width=2, style=\"solid\")\n",
    "#nx.draw_circular(G, with_labels=True)\n",
    "nx.draw_networkx(G, with_labels=True, node_size=600, alpha = .8, pos=pos)\n",
    "#nx.draw_planar(G, with_labels=True)\n",
    "#nx.draw_random(G, with_labels=True)\n",
    "#nx.draw_spectral(G, with_labels=True)\n",
    "#nx.draw_spring(G, with_labels=True)\n",
    "#nx.draw_shell(G, with_labels=True)\n"
   ]
  },
  {
   "cell_type": "code",
   "execution_count": null,
   "metadata": {},
   "outputs": [],
   "source": [
    "#Code Cell Test - Declarative VQE without Looping\n",
    "penality=2000\n",
    "qubit_op, offset = clique_new.get_clique_qubitops_2(adjacency_matrix, K, penality)\n",
    "\n",
    "algo_input = EnergyInput(qubit_op)\n",
    "\n",
    "params = {\n",
    "    'problem': {'name': 'ising'},\n",
    "    'algorithm': {'name': 'VQE'},\n",
    "    'optimizer': {'name': 'COBYLA','maxiter': 200},\n",
    "    'variational_form': {'name': 'RY', 'depth': 5, 'entanglement': 'linear'}\n",
    "}\n",
    "backend = BasicAer.get_backend('statevector_simulator')\n",
    "print(\"Adjacency Matrix:\", adjacency_matrix)\n",
    "print(\"Clique(K):\", K)\n",
    "\n",
    "totaltime=0\n",
    "\n",
    "result = run_algorithm(params, algo_input, backend=backend)\n",
    "x = clique_new.sample_most_likely(len(adjacency_matrix), result['eigvecs'][0])\n",
    "ising_vqed_sol = clique_new.get_graph_solution(x)\n",
    "print(\"ISING:\", ising_vqed_sol)\n",
    "getclique = clique_new.satisfy_or_not(ising_vqed_sol, adjacency_matrix, K)\n",
    "totaltime=totaltime+result['eval_time']\n",
    "\n",
    "print('energy:', result['energy'])\n",
    "print('time:', totaltime)\n",
    "print('clique objective:', result['energy'] + offset)\n",
    "#print('solution:', clique.get_graph_solution(x))\n",
    "\n",
    "#if getclique:\n",
    "print(\"Solution is \", ising_vqed_sol, \" for Graph(G) with \", num_nodes, \" vertices and a Clique(K): \", K)\n",
    "#Start lists\n",
    "ising_vqed_nol1 = []\n",
    "ising_vqed_nol2 = []\n",
    "#Create two lists to clique vertice colors\n",
    "for i in range(num_nodes):\n",
    "    if ising_vqed_sol[i] != 0:\n",
    "        ising_vqed_nol1.append(i)\n",
    "    else:\n",
    "        ising_vqed_nol2.append(i)\n",
    "\n",
    "pos=nx.spring_layout(G,k=10,scale=10)\n",
    "#Red color for clique vertices\n",
    "nx.draw_networkx_nodes(G,pos,\n",
    "                       nodelist=ising_vqed_nol1,\n",
    "                       node_color='r',\n",
    "                       node_size=500,\n",
    "                   alpha=0.8)\n",
    "#Blue color for not clique vertices\n",
    "nx.draw_networkx_nodes(G,pos,\n",
    "                       nodelist=ising_vqed_nol2,\n",
    "                       node_color='b',\n",
    "                       node_size=500,\n",
    "                   alpha=0.8)\n",
    "\n",
    "nx.draw_networkx_edges(G,pos,width=1.0,alpha=0.5)\n",
    "#Imprimir o grafo com as cliques\n",
    "nx.draw_networkx_labels(G,pos,with_labels=True)\n",
    "#else:\n",
    "#    print(\"No solution found for K=\", K)"
   ]
  },
  {
   "cell_type": "code",
   "execution_count": 8,
   "metadata": {},
   "outputs": [
    {
     "name": "stdout",
     "output_type": "stream",
     "text": [
      "Penalidade:  13548\n",
      "Adjacency Matrix: [[ 0.  0. -8.  5.  0.  0.  9.  0.]\n",
      " [ 0.  0.  0.  0. -3.  0.  6.  0.]\n",
      " [-8.  0.  0.  0.  0.  0.  8.  4.]\n",
      " [ 5.  0.  0.  0.  0.  0.  1.  0.]\n",
      " [ 0. -3.  0.  0.  0.  1.  0.  0.]\n",
      " [ 0.  0.  0.  0.  1.  0.  0.  0.]\n",
      " [ 9.  6.  8.  1.  0.  0.  0.  0.]\n",
      " [ 0.  0.  4.  0.  0.  0.  0.  0.]]\n",
      "Clique(K): 3\n",
      "ISING: [0. 0. 1. 0. 1. 0. 1. 0.]\n",
      "energy: -40642.70886220356\n",
      "time: 136110.03670716286\n"
     ]
    },
    {
     "ename": "NameError",
     "evalue": "name 'contExec' is not defined",
     "output_type": "error",
     "traceback": [
      "\u001b[1;31m---------------------------------------------------------------------------\u001b[0m",
      "\u001b[1;31mNameError\u001b[0m                                 Traceback (most recent call last)",
      "\u001b[1;32m<ipython-input-8-7fa1108a373b>\u001b[0m in \u001b[0;36m<module>\u001b[1;34m\u001b[0m\n\u001b[0;32m     37\u001b[0m \u001b[0mprint\u001b[0m\u001b[1;33m(\u001b[0m\u001b[1;34m'energy:'\u001b[0m\u001b[1;33m,\u001b[0m \u001b[0mresult\u001b[0m\u001b[1;33m[\u001b[0m\u001b[1;34m'energy'\u001b[0m\u001b[1;33m]\u001b[0m\u001b[1;33m)\u001b[0m\u001b[1;33m\u001b[0m\u001b[1;33m\u001b[0m\u001b[0m\n\u001b[0;32m     38\u001b[0m \u001b[0mprint\u001b[0m\u001b[1;33m(\u001b[0m\u001b[1;34m'time:'\u001b[0m\u001b[1;33m,\u001b[0m \u001b[0mtotaltime\u001b[0m\u001b[1;33m)\u001b[0m\u001b[1;33m\u001b[0m\u001b[1;33m\u001b[0m\u001b[0m\n\u001b[1;32m---> 39\u001b[1;33m \u001b[0mprint\u001b[0m\u001b[1;33m(\u001b[0m\u001b[1;34m'Total Executions:'\u001b[0m\u001b[1;33m,\u001b[0m \u001b[0mcontExec\u001b[0m\u001b[1;33m)\u001b[0m\u001b[1;33m\u001b[0m\u001b[1;33m\u001b[0m\u001b[0m\n\u001b[0m\u001b[0;32m     40\u001b[0m \u001b[0mprint\u001b[0m\u001b[1;33m(\u001b[0m\u001b[1;34m'clique objective:'\u001b[0m\u001b[1;33m,\u001b[0m \u001b[0mresult\u001b[0m\u001b[1;33m[\u001b[0m\u001b[1;34m'energy'\u001b[0m\u001b[1;33m]\u001b[0m \u001b[1;33m+\u001b[0m \u001b[0moffset\u001b[0m\u001b[1;33m)\u001b[0m\u001b[1;33m\u001b[0m\u001b[1;33m\u001b[0m\u001b[0m\n\u001b[0;32m     41\u001b[0m \u001b[0mprint\u001b[0m\u001b[1;33m(\u001b[0m\u001b[1;34m'optimal_cost:'\u001b[0m\u001b[1;33m,\u001b[0m \u001b[0mvqe_clique\u001b[0m\u001b[1;33m.\u001b[0m\u001b[0mget_optimal_cost\u001b[0m\u001b[1;33m(\u001b[0m\u001b[1;33m)\u001b[0m\u001b[1;33m)\u001b[0m\u001b[1;33m\u001b[0m\u001b[1;33m\u001b[0m\u001b[0m\n",
      "\u001b[1;31mNameError\u001b[0m: name 'contExec' is not defined"
     ]
    }
   ],
   "source": [
    "#Code Cell Test - Programmatic VQE without Looping\n",
    "from qiskit.aqua import aqua_globals\n",
    "from qiskit.aqua.algorithms import VQE\n",
    "from qiskit.aqua.components.optimizers import COBYLA\n",
    "from qiskit.aqua.components.variational_forms import RY\n",
    "from qiskit.aqua import QuantumInstance\n",
    "\n",
    "penality=13548\n",
    "qubit_op, offset, penality = clique_new.get_clique_qubitops_2(adjacency_matrix, K, penality)\n",
    "\n",
    "algo_input = EnergyInput(qubit_op)\n",
    "\n",
    "print('Penalidade: ', penality)\n",
    "#aqua_globals.random_seed = 10598\n",
    "#seed = 10598\n",
    "optimizer = COBYLA(maxiter=20000)\n",
    "#optimizer = SPSA(max_trials=200)\n",
    "var_form = RY(qubit_op.num_qubits, depth=10, entanglement='linear')\n",
    "vqe_clique = VQE(qubit_op, var_form, optimizer)\n",
    "backend = BasicAer.get_backend('statevector_simulator')\n",
    "quantum_instance = QuantumInstance(backend=backend, shots=50000) #, seed_simulator=seed)\n",
    "\n",
    "print(\"Adjacency Matrix:\", adjacency_matrix)\n",
    "print(\"Clique(K):\", K)\n",
    "\n",
    "totaltime=0\n",
    "result = vqe_clique.run(quantum_instance)\n",
    "x = clique_new.sample_most_likely(len(adjacency_matrix), result['eigvecs'][0])\n",
    "ising_vqep_sol = clique_new.get_graph_solution(x)\n",
    "print(\"ISING:\", ising_vqep_sol)\n",
    "getclique = clique_new.satisfy_or_not(ising_vqep_sol, adjacency_matrix, K)\n",
    "if np.count_nonzero(ising_vqep_sol) != K:\n",
    "    getclique = False\n",
    "totaltime=totaltime+result['eval_time']\n",
    "#print(\"Get_Result: \", clique.get_gset_result(x))\n",
    "\n",
    "print('energy:', result['energy'])\n",
    "print('time:', totaltime)\n",
    "print('clique objective:', result['energy'] + offset)\n",
    "print('optimal_cost:', vqe_clique.get_optimal_cost())\n",
    "print('Resultado:', result)\n",
    "\n",
    "#if clique_new.satisfy_or_not(ising_vqep_sol, adjacency_matrix, K):\n",
    "print(\"Solution is \", ising_vqep_sol, \" for Graph(G) with \", num_nodes, \" vertices and a Clique(K): \", K)\n",
    "\n",
    "#Start lists\n",
    "ising_vqep_nol1 = []\n",
    "ising_vqep_nol2 = []\n",
    "#Create two lists to clique vertice colors\n",
    "for i in range(num_nodes):\n",
    "    if ising_vqep_sol[i] != 0:\n",
    "        ising_vqep_nol1.append(i)\n",
    "    else:\n",
    "        ising_vqep_nol2.append(i)\n",
    "\n",
    "pos=nx.spring_layout(G,k=10,scale=10)\n",
    "#Red color for clique vertices\n",
    "nx.draw_networkx_nodes(G,pos,\n",
    "                       nodelist=ising_vqep_nol1,\n",
    "                       node_color='r',\n",
    "                       node_size=500,\n",
    "                   alpha=0.8)\n",
    "#Blue color for not clique vertices\n",
    "nx.draw_networkx_nodes(G,pos,\n",
    "                       nodelist=ising_vqep_nol2,\n",
    "                       node_color='b',\n",
    "                       node_size=500,\n",
    "                   alpha=0.8)\n",
    "\n",
    "nx.draw_networkx_edges(G,pos,width=1.0,alpha=0.5)\n",
    "#Imprimir o grafo com as cliques\n",
    "nx.draw_networkx_labels(G,pos,with_labels=True)\n",
    "#else:\n",
    "#    print(\"No solution found for K=\", K, \" para os valores: \", ising_vqep_sol)\n"
   ]
  },
  {
   "cell_type": "code",
   "execution_count": null,
   "metadata": {},
   "outputs": [],
   "source": []
  }
 ],
 "metadata": {
  "kernelspec": {
   "display_name": "Python 3",
   "language": "python",
   "name": "python3"
  },
  "language_info": {
   "codemirror_mode": {
    "name": "ipython",
    "version": 3
   },
   "file_extension": ".py",
   "mimetype": "text/x-python",
   "name": "python",
   "nbconvert_exporter": "python",
   "pygments_lexer": "ipython3",
   "version": "3.7.4"
  }
 },
 "nbformat": 4,
 "nbformat_minor": 2
}
